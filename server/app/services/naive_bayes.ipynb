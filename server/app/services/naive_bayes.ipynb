{
 "cells": [
  {
   "metadata": {
    "ExecuteTime": {
     "end_time": "2024-08-06T03:18:31.415687Z",
     "start_time": "2024-08-06T03:18:31.408836Z"
    }
   },
   "cell_type": "code",
   "source": [
    "import sys\n",
    "import os\n",
    "from dotenv import load_dotenv\n",
    "\n",
    "load_dotenv()\n",
    "\n",
    "base_dir = os.getenv('BASE_DIR')\n",
    "database_dir = os.path.abspath(os.path.join(base_dir, 'app', 'database'))\n",
    "sys.path.append(database_dir)\n",
    "\n",
    "from models import load_data\n",
    "from connections import list_collection\n"
   ],
   "id": "2d5f903638ac021c",
   "outputs": [],
   "execution_count": 59
  },
  {
   "metadata": {
    "ExecuteTime": {
     "end_time": "2024-08-06T02:52:30.484860Z",
     "start_time": "2024-08-06T02:52:30.479802Z"
    }
   },
   "cell_type": "code",
   "source": [
    "# Import Modules\n",
    "import pandas as pd\n",
    "from sklearn.model_selection import train_test_split\n",
    "from sklearn.feature_extraction.text import TfidfVectorizer\n",
    "from sklearn.naive_bayes import MultinomialNB\n",
    "from sklearn.metrics import accuracy_score, classification_report\n",
    "\n",
    "import pickle"
   ],
   "id": "dc1f262066eec995",
   "outputs": [],
   "execution_count": 50
  },
  {
   "metadata": {
    "ExecuteTime": {
     "end_time": "2024-08-06T02:52:31.229551Z",
     "start_time": "2024-08-06T02:52:30.485870Z"
    }
   },
   "cell_type": "code",
   "source": [
    "# Load data from database\n",
    "collections = list_collection()\n",
    "sms = pd.DataFrame(columns=['Type', 'Content'])\n",
    "\n",
    "for c in collections:\n",
    "    df = load_data(c)\n",
    "    sms = pd.concat([sms, df], ignore_index=True)\n",
    "    \n",
    "sms = sms.sample(frac=1).reset_index(drop=True)"
   ],
   "id": "ef4e1ca0beb2a55a",
   "outputs": [],
   "execution_count": 51
  },
  {
   "metadata": {
    "ExecuteTime": {
     "end_time": "2024-08-06T02:52:31.237970Z",
     "start_time": "2024-08-06T02:52:31.232560Z"
    }
   },
   "cell_type": "code",
   "source": "sms['Type'] = sms['Type'].map({'spam': 0, 'ham': 1})",
   "id": "da1232bcd9c32174",
   "outputs": [],
   "execution_count": 52
  },
  {
   "metadata": {
    "ExecuteTime": {
     "end_time": "2024-08-06T02:52:31.255757Z",
     "start_time": "2024-08-06T02:52:31.239490Z"
    }
   },
   "cell_type": "code",
   "source": [
    "x = sms['Content']\n",
    "y = sms['Type']"
   ],
   "id": "504c13fc1bbe8b9c",
   "outputs": [],
   "execution_count": 53
  },
  {
   "metadata": {
    "ExecuteTime": {
     "end_time": "2024-08-06T02:52:31.266903Z",
     "start_time": "2024-08-06T02:52:31.257765Z"
    }
   },
   "cell_type": "code",
   "source": "x_train, x_test, y_train, y_test = train_test_split(x, y, test_size=0.2)",
   "id": "b99966921d145f80",
   "outputs": [],
   "execution_count": 54
  },
  {
   "metadata": {
    "ExecuteTime": {
     "end_time": "2024-08-06T02:52:31.364681Z",
     "start_time": "2024-08-06T02:52:31.267910Z"
    }
   },
   "cell_type": "code",
   "source": [
    "vectorizer = TfidfVectorizer(min_df=1, stop_words='english', lowercase=True)\n",
    "\n",
    "x_train_vector = vectorizer.fit_transform(x_train)\n",
    "x_test_vector = vectorizer.transform(x_test)\n",
    "\n",
    "y_train = y_train.astype(int)\n",
    "y_test = y_test.astype(int)"
   ],
   "id": "61469098e3dde02e",
   "outputs": [],
   "execution_count": 55
  },
  {
   "metadata": {
    "ExecuteTime": {
     "end_time": "2024-08-06T02:52:31.375462Z",
     "start_time": "2024-08-06T02:52:31.367690Z"
    }
   },
   "cell_type": "code",
   "source": [
    "model = MultinomialNB()\n",
    "model.fit(x_train_vector, y_train)\n",
    "\n",
    "y_pred = model.predict(x_test_vector)"
   ],
   "id": "62b7022a5bd74e5e",
   "outputs": [],
   "execution_count": 56
  },
  {
   "metadata": {
    "ExecuteTime": {
     "end_time": "2024-08-06T02:52:31.394245Z",
     "start_time": "2024-08-06T02:52:31.377472Z"
    }
   },
   "cell_type": "code",
   "source": [
    "print(f'Accuracy: {accuracy_score(y_test, y_pred)}')\n",
    "print('Classification Report:')\n",
    "print(classification_report(y_test, y_pred))"
   ],
   "id": "46938f134704bd94",
   "outputs": [
    {
     "name": "stdout",
     "output_type": "stream",
     "text": [
      "Accuracy: 0.9695067264573991\n",
      "Classification Report:\n",
      "              precision    recall  f1-score   support\n",
      "\n",
      "           0       1.00      0.76      0.86       140\n",
      "           1       0.97      1.00      0.98       975\n",
      "\n",
      "    accuracy                           0.97      1115\n",
      "   macro avg       0.98      0.88      0.92      1115\n",
      "weighted avg       0.97      0.97      0.97      1115\n",
      "\n"
     ]
    }
   ],
   "execution_count": 57
  },
  {
   "metadata": {
    "ExecuteTime": {
     "end_time": "2024-08-06T02:52:31.404991Z",
     "start_time": "2024-08-06T02:52:31.396254Z"
    }
   },
   "cell_type": "code",
   "source": [
    "with open(\"nb_model.pkl\", 'wb') as model_file:\n",
    "    pickle.dump(model, model_file)\n",
    "\n",
    "with open(\"vectorizer.pkl\", 'wb') as vectorizer_file:\n",
    "    pickle.dump(vectorizer, vectorizer_file)"
   ],
   "id": "15f8b3002bf7f712",
   "outputs": [],
   "execution_count": 58
  },
  {
   "metadata": {
    "ExecuteTime": {
     "end_time": "2024-08-06T02:52:31.409084Z",
     "start_time": "2024-08-06T02:52:31.406001Z"
    }
   },
   "cell_type": "code",
   "source": "",
   "id": "f89673bf15b1bb35",
   "outputs": [],
   "execution_count": 58
  }
 ],
 "metadata": {
  "kernelspec": {
   "display_name": "Python 3",
   "language": "python",
   "name": "python3"
  },
  "language_info": {
   "codemirror_mode": {
    "name": "ipython",
    "version": 2
   },
   "file_extension": ".py",
   "mimetype": "text/x-python",
   "name": "python",
   "nbconvert_exporter": "python",
   "pygments_lexer": "ipython2",
   "version": "2.7.6"
  }
 },
 "nbformat": 4,
 "nbformat_minor": 5
}
