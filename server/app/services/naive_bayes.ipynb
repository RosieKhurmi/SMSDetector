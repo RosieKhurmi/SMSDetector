{
 "cells": [
  {
   "metadata": {},
   "cell_type": "markdown",
   "source": "# Spam Detection Algorithm",
   "id": "84ea8f4a9ff11fb"
  },
  {
   "metadata": {
    "ExecuteTime": {
     "end_time": "2024-08-06T03:18:31.415687Z",
     "start_time": "2024-08-06T03:18:31.408836Z"
    }
   },
   "cell_type": "code",
   "source": [
    "# Import database files\n",
    "\n",
    "import sys\n",
    "import os\n",
    "from dotenv import load_dotenv\n",
    "\n",
    "load_dotenv()\n",
    "\n",
    "base_dir = os.getenv('BASE_DIR')\n",
    "database_dir = os.path.abspath(os.path.join(base_dir, 'app', 'database'))\n",
    "sys.path.append(database_dir)\n",
    "\n",
    "from database.models import load_data\n",
    "from connections import list_collection\n"
   ],
   "id": "2d5f903638ac021c",
   "execution_count": 59,
   "outputs": []
  },
  {
   "metadata": {
    "ExecuteTime": {
     "end_time": "2024-08-06T02:52:30.484860Z",
     "start_time": "2024-08-06T02:52:30.479802Z"
    }
   },
   "cell_type": "code",
   "source": [
    "# Import Modules\n",
    "import pandas as pd\n",
    "from sklearn.model_selection import train_test_split\n",
    "from sklearn.feature_extraction.text import TfidfVectorizer\n",
    "from sklearn.naive_bayes import MultinomialNB\n",
    "from sklearn.metrics import accuracy_score, classification_report\n",
    "\n",
    "import pickle"
   ],
   "id": "dc1f262066eec995",
   "execution_count": 50,
   "outputs": []
  },
  {
   "metadata": {},
   "cell_type": "markdown",
   "source": "Data Collection from Database",
   "id": "2b56432e6b14d75c"
  },
  {
   "metadata": {
    "ExecuteTime": {
     "end_time": "2024-08-06T02:52:31.229551Z",
     "start_time": "2024-08-06T02:52:30.485870Z"
    }
   },
   "cell_type": "code",
   "source": [
    "# Load data from database\n",
    "collections = list_collection()\n",
    "sms = pd.DataFrame(columns=['Type', 'Content'])\n",
    "\n",
    "# Load data from spam and ham collections and add them to one DataFrame\n",
    "for c in collections:\n",
    "    df = load_data(c)\n",
    "    sms = pd.concat([sms, df], ignore_index=True)\n",
    "    \n",
    "# Scramble the Data Frame\n",
    "sms = sms.sample(frac=1).reset_index(drop=True)"
   ],
   "id": "ef4e1ca0beb2a55a",
   "execution_count": 51,
   "outputs": []
  },
  {
   "metadata": {},
   "cell_type": "markdown",
   "source": "Data Cleaning",
   "id": "346bb21ab2ba463e"
  },
  {
   "metadata": {
    "ExecuteTime": {
     "end_time": "2024-08-06T02:52:31.237970Z",
     "start_time": "2024-08-06T02:52:31.232560Z"
    }
   },
   "cell_type": "code",
   "source": [
    "# Number spam and ham\n",
    "sms['Type'] = sms['Type'].map({'spam': 0, 'ham': 1})"
   ],
   "id": "da1232bcd9c32174",
   "execution_count": 52,
   "outputs": []
  },
  {
   "metadata": {},
   "cell_type": "markdown",
   "source": "Split Data for Training and Testing",
   "id": "2efbb307415896fb"
  },
  {
   "metadata": {
    "ExecuteTime": {
     "end_time": "2024-08-06T02:52:31.255757Z",
     "start_time": "2024-08-06T02:52:31.239490Z"
    }
   },
   "cell_type": "code",
   "source": [
    "x = sms['Content']\n",
    "y = sms['Type']"
   ],
   "id": "504c13fc1bbe8b9c",
   "execution_count": 53,
   "outputs": []
  },
  {
   "metadata": {
    "ExecuteTime": {
     "end_time": "2024-08-06T02:52:31.266903Z",
     "start_time": "2024-08-06T02:52:31.257765Z"
    }
   },
   "cell_type": "code",
   "source": "x_train, x_test, y_train, y_test = train_test_split(x, y, test_size=0.2)",
   "id": "b99966921d145f80",
   "execution_count": 54,
   "outputs": []
  },
  {
   "metadata": {},
   "cell_type": "markdown",
   "source": "Text Vectorization",
   "id": "9354bebbd81e0738"
  },
  {
   "metadata": {
    "ExecuteTime": {
     "end_time": "2024-08-06T02:52:31.364681Z",
     "start_time": "2024-08-06T02:52:31.267910Z"
    }
   },
   "cell_type": "code",
   "source": [
    "vectorizer = TfidfVectorizer(min_df=1, stop_words='english', lowercase=True)\n",
    "\n",
    "x_train_vector = vectorizer.fit_transform(x_train)\n",
    "x_test_vector = vectorizer.transform(x_test)\n",
    "\n",
    "y_train = y_train.astype(int)\n",
    "y_test = y_test.astype(int)"
   ],
   "id": "61469098e3dde02e",
   "execution_count": 55,
   "outputs": []
  },
  {
   "metadata": {},
   "cell_type": "markdown",
   "source": "Train Model",
   "id": "ff1e317a1a1e9e61"
  },
  {
   "metadata": {
    "ExecuteTime": {
     "end_time": "2024-08-06T02:52:31.375462Z",
     "start_time": "2024-08-06T02:52:31.367690Z"
    }
   },
   "cell_type": "code",
   "source": [
    "model = MultinomialNB()\n",
    "model.fit(x_train_vector, y_train)\n",
    "\n",
    "y_pred = model.predict(x_test_vector)"
   ],
   "id": "62b7022a5bd74e5e",
   "execution_count": 56,
   "outputs": []
  },
  {
   "metadata": {},
   "cell_type": "markdown",
   "source": "Display Results",
   "id": "8ff487a54649e503"
  },
  {
   "metadata": {
    "ExecuteTime": {
     "end_time": "2024-08-06T02:52:31.394245Z",
     "start_time": "2024-08-06T02:52:31.377472Z"
    }
   },
   "cell_type": "code",
   "source": [
    "print(f'Accuracy: {accuracy_score(y_test, y_pred)}')\n",
    "print('Classification Report:')\n",
    "print(classification_report(y_test, y_pred))"
   ],
   "id": "46938f134704bd94",
   "execution_count": 57,
   "outputs": []
  },
  {
   "metadata": {},
   "cell_type": "markdown",
   "source": "Export as Byte Files using Pickle",
   "id": "c830a7da040623ca"
  },
  {
   "metadata": {
    "ExecuteTime": {
     "end_time": "2024-08-06T02:52:31.404991Z",
     "start_time": "2024-08-06T02:52:31.396254Z"
    }
   },
   "cell_type": "code",
   "source": [
    "with open(\"nb_model.pkl\", 'wb') as model_file:\n",
    "    pickle.dump(model, model_file)\n",
    "\n",
    "with open(\"vectorizer.pkl\", 'wb') as vectorizer_file:\n",
    "    pickle.dump(vectorizer, vectorizer_file)"
   ],
   "id": "15f8b3002bf7f712",
   "execution_count": 58,
   "outputs": []
  },
  {
   "metadata": {
    "ExecuteTime": {
     "end_time": "2024-08-06T02:52:31.409084Z",
     "start_time": "2024-08-06T02:52:31.406001Z"
    }
   },
   "cell_type": "code",
   "source": "",
   "id": "f89673bf15b1bb35",
   "execution_count": 58,
   "outputs": []
  }
 ],
 "metadata": {
  "kernelspec": {
   "display_name": "Python 3",
   "language": "python",
   "name": "python3"
  },
  "language_info": {
   "codemirror_mode": {
    "name": "ipython",
    "version": 2
   },
   "file_extension": ".py",
   "mimetype": "text/x-python",
   "name": "python",
   "nbconvert_exporter": "python",
   "pygments_lexer": "ipython2",
   "version": "2.7.6"
  }
 },
 "nbformat": 4,
 "nbformat_minor": 5
}
